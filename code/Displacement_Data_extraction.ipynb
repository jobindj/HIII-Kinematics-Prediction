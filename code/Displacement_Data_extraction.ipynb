{
 "cells": [
  {
   "cell_type": "markdown",
   "id": "54bf62eb-e154-49cb-b2e5-705a62bb1886",
   "metadata": {},
   "source": [
    "### Extract the Node IDs of the Hybrid III dummy"
   ]
  },
  {
   "cell_type": "code",
   "execution_count": 4,
   "id": "8a84ebfb",
   "metadata": {
    "lines_to_next_cell": 2
   },
   "outputs": [
    {
     "name": "stdout",
     "output_type": "stream",
     "text": [
      "Total no. of nodes in the Hybrid III model file: 7444\n"
     ]
    }
   ],
   "source": [
    "# Pick node IDs for HBM alone from key file\n",
    "\n",
    "import numpy as np\n",
    "import pandas as pd\n",
    "# import xarray as xr\n",
    "from qd.cae.dyna import KeyFile, D3plot\n",
    "\n",
    "# open a keyfile\n",
    "kf = KeyFile(\"LSTC.50thRigidFE.PostFeb28.WithBeltVehicleModelTemplate.k\")\n",
    "# kf = KeyFile(\"D:/Thesis/HBM_kinematics/Datasets_DOE/Shivzz/base_000/LSTC.50thRigidFE.PostFeb28.WithBeltVehicleModelTemplate.k\")\n",
    "nodes = kf[\"*NODE\"][0]\n",
    "temp = []\n",
    "for line in nodes:\n",
    "        if line.startswith(\"$\")==False:\n",
    "            temp.append(line)\n",
    "# print(len(temp))\n",
    "HBM_nodes=[]\n",
    "for i in range(0,len(temp)-1):\n",
    "        HBM_nodes.append(nodes[i].split(\" \")[1])\n",
    "print('Total no. of nodes in the Hybrid III model file: {}'.format(len(HBM_nodes)))\n",
    "\n",
    "HBM_nodes = list(map(int, HBM_nodes))"
   ]
  },
  {
   "cell_type": "markdown",
   "id": "58aa3601-bcc4-491f-8d00-2cd37b8eca18",
   "metadata": {},
   "source": [
    "## Extract displacement data from D3plots "
   ]
  },
  {
   "cell_type": "code",
   "execution_count": 10,
   "id": "32c920b1-d3e1-4601-876f-f4996f194f05",
   "metadata": {
    "title": "LASSO DYNA"
   },
   "outputs": [],
   "source": [
    "import xarray as xr\n",
    "from lasso.dyna import D3plot, ArrayType"
   ]
  },
  {
   "cell_type": "markdown",
   "id": "621c9f78-33bc-42cb-b736-4c0034eb4a98",
   "metadata": {},
   "source": [
    "### Extact node IDs in the full model (vehicle and dummy model node IDs) and\n",
    "### timestate values at which results are written in D3plot"
   ]
  },
  {
   "cell_type": "code",
   "execution_count": 8,
   "id": "795df6b4",
   "metadata": {},
   "outputs": [],
   "source": [
    "\n",
    "d3plot_lass = D3plot(\"D:/Thesis/HBM_kinematics/Datasets_DOE/Shivzz/base_001/d3plot\") # Add path of any result file \n",
    "nodes_lass = d3plot_lass.arrays[ArrayType.node_ids]\n",
    "Nd_lass = nodes_lass.tolist()\n",
    "\n",
    "# d3plot_lass.arrays.keys()  # to find all the data read by lasso\n",
    "times_lass = d3plot_lass.arrays[\"timesteps\"] # Extract timestate values of recorded results\n",
    "\n"
   ]
  },
  {
   "cell_type": "markdown",
   "id": "a5dfc26b-7759-4524-b1c4-cd724430b87d",
   "metadata": {},
   "source": [
    "Initializations"
   ]
  },
  {
   "cell_type": "code",
   "execution_count": 9,
   "id": "75b95eb5",
   "metadata": {},
   "outputs": [
    {
     "name": "stderr",
     "output_type": "stream",
     "text": [
      "C:\\softwares\\anaconda\\anaconda3\\envs\\HBM\\lib\\site-packages\\ipykernel\\ipkernel.py:287: DeprecationWarning: `should_run_async` will not call `transform_cell` automatically in the future. Please pass the result to `transformed_cell` argument and any exception that happen during thetransform in `preprocessing_exc_tuple` in IPython 7.17 and above.\n",
      "  and should_run_async(code)\n"
     ]
    }
   ],
   "source": [
    "folder_path = \"D:/Thesis/HBM_kinematics/Datasets_DOE/Shivzz\"   # path of D3plot reslts folders \n",
    "sims_n = 10                         # No. of simulation outputs to extract\n",
    "fix_Nd = 3003092                    # Node ID of relative to which displacement \n",
    "                                    # of the Hybrid III dummy is calculated\n",
    "ts = len(times_lass)                # No. of Timestates at which data is recorded in D3plots\n",
    "Nd = HBM_nodes\n",
    "\n",
    "# Remove defective nodes - associated with the vehicle and not related to HBM\n",
    "Nd.remove(1009633)\n",
    "Nd.remove(1009634)\n",
    "Nd.remove(1009635)"
   ]
  },
  {
   "cell_type": "markdown",
   "id": "45cbd723-90ee-4674-9f46-edba935880d7",
   "metadata": {},
   "source": [
    "### Extract the relative displacement of the Hybrid III dummy with respect to the vehicle"
   ]
  },
  {
   "cell_type": "code",
   "execution_count": 11,
   "id": "86190733",
   "metadata": {
    "title": "Retrieve displacement Data from D3plots"
   },
   "outputs": [
    {
     "name": "stderr",
     "output_type": "stream",
     "text": [
      "C:\\softwares\\anaconda\\anaconda3\\envs\\HBM\\lib\\site-packages\\ipykernel\\ipkernel.py:287: DeprecationWarning: `should_run_async` will not call `transform_cell` automatically in the future. Please pass the result to `transformed_cell` argument and any exception that happen during thetransform in `preprocessing_exc_tuple` in IPython 7.17 and above.\n",
      "  and should_run_async(code)\n"
     ]
    }
   ],
   "source": [
    "\n",
    "samples = []\n",
    "for i in range(0,sims_n,1):   \n",
    "    \n",
    "# add the D3plot file path of particular simulations\n",
    "    sim_paths = \"{}/base_{:03}/d3plot\".format(folder_path, (i+1)) \n",
    "    \n",
    "# use D3plot function from lasso.dyna toolkit to extrct the D3plot data\n",
    "    d3plot_lass = D3plot(sim_paths)\n",
    "    \n",
    "# Extract nodal displacements for the full FE model (vehicle and dummy)...\n",
    "#... - these are inculding the global position of the FE model\n",
    "    coord_ts_lass = d3plot_lass.arrays[ArrayType.node_displacement] \n",
    "    \n",
    "# Extract the inital coordinated of the FE model (vehicle and dummy)\n",
    "    coord_lass = d3plot_lass.arrays[ArrayType.node_coordinates]     \n",
    "    \n",
    "# Subtract the initial coordinated of the model with global diplacement... \n",
    "#... values to get actual diplacement values\n",
    "    disp_lass = np.subtract(coord_ts_lass, coord_lass)  \n",
    "    \n",
    "# save the displacement values in Xarray format for ease of handling i.e., ...\n",
    "# to associate the raw nodal displacemnt values to calculate relative ...\n",
    "#... displacements of Hybrid III dummy \n",
    "    disp_lass_xr = xr.DataArray(disp_lass,                                     \n",
    "                       dims = [\"times\",\"nodes\",\"DoFs\"],                        \n",
    "                        coords = {\"times\" : times_lass,\n",
    "                                  \"nodes\" : Nd_lass,\n",
    "                                  \"DoFs\"  : ['x_disp', 'y_disp', 'z_disp']\n",
    "                                  })\n",
    "    \n",
    "# Subtract the displacement of the fixed node and the other displacments to get relative displacement    \n",
    "    disp_lass_xr =  disp_lass_xr.sel(nodes=fix_Nd) - disp_lass_xr              \n",
    "    disp_lass_xr = np.array(disp_lass_xr)\n",
    "    \n",
    "# append all displacement values of all simulations in a list\n",
    "    samples.append(disp_lass_xr)"
   ]
  },
  {
   "cell_type": "markdown",
   "id": "2aba55de-eac3-4212-ad67-ab7b69c95da2",
   "metadata": {},
   "source": [
    "### Save relative displacement outputs from all simulations in xarray format (vehcle and dummy)"
   ]
  },
  {
   "cell_type": "code",
   "execution_count": 18,
   "id": "44cd3a6b",
   "metadata": {
    "title": "X_Array"
   },
   "outputs": [],
   "source": [
    "\n",
    "samples_4D = np.array(samples)\n",
    "\n",
    "samples_xarr = xr.DataArray(samples_4D,\n",
    "                       dims = [\"sims\",\"times\",\"DoFs\",\"nodes\"],\n",
    "                        coords = { \"sims\" : list(range(sims_n)),\n",
    "                                  \"times\" : times_lass,\n",
    "                                  \"DoFs\"  : ['x_disp', 'y_disp', 'z_disp'],\n",
    "                                  \"nodes\" : Nd_lass                                  \n",
    "                                  })\n",
    "# print(samples_xarr)\n"
   ]
  },
  {
   "cell_type": "markdown",
   "id": "b4fc3eff-d952-4684-9c9b-f5199290d690",
   "metadata": {},
   "source": [
    "### Save only Hybrid III dummy nodal displacements"
   ]
  },
  {
   "cell_type": "code",
   "execution_count": 15,
   "id": "3839a545",
   "metadata": {
    "lines_to_next_cell": 0,
    "title": "only HBM Dummy node data"
   },
   "outputs": [],
   "source": [
    "samples_xarr_HBM = samples_xarr.sel(nodes=Nd)"
   ]
  },
  {
   "cell_type": "markdown",
   "id": "52ff57c5-1c31-4afe-9580-bb30e369ae01",
   "metadata": {},
   "source": [
    "### Save only Hybrid III dummy nodal displacements in a file on PC"
   ]
  },
  {
   "cell_type": "code",
   "execution_count": 17,
   "id": "c45f027d",
   "metadata": {
    "title": "Save only HBM Dummy node data"
   },
   "outputs": [],
   "source": [
    "# samples_xarr_HBM.to_netcdf(\"samples_10_Dummy.nc\")"
   ]
  },
  {
   "cell_type": "code",
   "execution_count": null,
   "id": "fe867a47-de69-4bf4-a6bd-e1e1b446e161",
   "metadata": {},
   "outputs": [],
   "source": []
  }
 ],
 "metadata": {
  "jupytext": {
   "cell_metadata_filter": "title,-all",
   "encoding": "# -*- coding: utf-8 -*-",
   "notebook_metadata_filter": "-all",
   "text_representation": {
    "extension": ".py",
    "format_name": "percent"
   }
  },
  "kernelspec": {
   "display_name": "Python 3",
   "language": "python",
   "name": "python3"
  },
  "language_info": {
   "codemirror_mode": {
    "name": "ipython",
    "version": 3
   },
   "file_extension": ".py",
   "mimetype": "text/x-python",
   "name": "python",
   "nbconvert_exporter": "python",
   "pygments_lexer": "ipython3",
   "version": "3.8.5"
  }
 },
 "nbformat": 4,
 "nbformat_minor": 5
}
